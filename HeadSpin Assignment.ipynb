{
 "cells": [
  {
   "cell_type": "markdown",
   "metadata": {},
   "source": [
    "## HeadSpin Assignment"
   ]
  },
  {
   "cell_type": "markdown",
   "metadata": {},
   "source": [
    "# 1. To check whether the given date is valid or not"
   ]
  },
  {
   "cell_type": "code",
   "execution_count": null,
   "metadata": {},
   "outputs": [],
   "source": [
    "year = int(input(\"Enter year: \"))\n",
    "month = int(input(\"Enter month: \"))\n",
    "day = int(input(\"Enter day: \"))\n",
    " \n",
    "# Maximun days in a month\n",
    "if month == 1 or month == 3 or month == 5 or month == 7 or month == 8 or month == 10 or month == 12:\n",
    "    max_day_value = 31\n",
    "elif month == 4 or month == 6 or month == 9 or month == 11:\n",
    "    max_day_value = 30\n",
    "elif year % 4 == 0 and year % 100 != 0 or year % 400 == 0:\n",
    "    max_day_value = 29\n",
    "else:\n",
    "    max_day_value = 28\n",
    " \n",
    "# Checking if date is valid or not\n",
    "if month < 1 or month > 12:\n",
    "    print(\"Date is invalid.\")\n",
    "elif day < 1 or day > max_day_value:\n",
    "    print(\"Date is invalid.\")\n",
    "else:\n",
    "    print(\"Valid Date\")"
   ]
  },
  {
   "cell_type": "markdown",
   "metadata": {},
   "source": [
    "# 2. Inserting an element into an array at the nth position"
   ]
  },
  {
   "cell_type": "code",
   "execution_count": 1,
   "metadata": {},
   "outputs": [
    {
     "data": {
      "text/plain": [
       "['cats', 'dogs', 'cows', 'Lion', 'Tiger', 'goat', 'chicken']"
      ]
     },
     "execution_count": 1,
     "metadata": {},
     "output_type": "execute_result"
    }
   ],
   "source": [
    "# Using slice approch\n",
    "a = [\"cats\", \"dogs\", \"cows\", \"goat\", \"chicken\"]\n",
    "a[3:3] = [\"Lion\", \"Tiger\"]\n",
    "a"
   ]
  },
  {
   "cell_type": "code",
   "execution_count": 4,
   "metadata": {},
   "outputs": [
    {
     "data": {
      "text/plain": [
       "['cats', 'dogs', 'cows', 'Lion', 'Tiger', 'goat', 'chicken']"
      ]
     },
     "execution_count": 4,
     "metadata": {},
     "output_type": "execute_result"
    }
   ],
   "source": [
    "b = [\"cats\", \"dogs\", \"cows\", \"goat\", \"chicken\"]\n",
    "new_list = b[:3]+['Lion']+['Tiger']+b[3:]\n",
    "new_list"
   ]
  },
  {
   "cell_type": "markdown",
   "metadata": {},
   "source": [
    "# Printing all Armstrong numbers less than N"
   ]
  },
  {
   "cell_type": "code",
   "execution_count": 6,
   "metadata": {},
   "outputs": [
    {
     "name": "stdout",
     "output_type": "stream",
     "text": [
      "Enter lower range: 1000\n",
      "1\n",
      "64\n",
      "125\n",
      "153\n",
      "216\n",
      "370\n",
      "371\n",
      "407\n",
      "729\n"
     ]
    }
   ],
   "source": [
    "number = int(input(\"Enter lower range: \"))  \n",
    "  \n",
    "  \n",
    "for num in range(number+1):  \n",
    "   sum = 0  \n",
    "   temp = num  \n",
    "   while temp > 0:  \n",
    "       digit = temp % 10  \n",
    "       sum += digit ** 3  \n",
    "       temp //= 10  \n",
    "       if num == sum:  \n",
    "            print(num) "
   ]
  },
  {
   "cell_type": "code",
   "execution_count": null,
   "metadata": {},
   "outputs": [],
   "source": []
  }
 ],
 "metadata": {
  "kernelspec": {
   "display_name": "Python 3",
   "language": "python",
   "name": "python3"
  },
  "language_info": {
   "codemirror_mode": {
    "name": "ipython",
    "version": 3
   },
   "file_extension": ".py",
   "mimetype": "text/x-python",
   "name": "python",
   "nbconvert_exporter": "python",
   "pygments_lexer": "ipython3",
   "version": "3.6.5"
  }
 },
 "nbformat": 4,
 "nbformat_minor": 2
}
